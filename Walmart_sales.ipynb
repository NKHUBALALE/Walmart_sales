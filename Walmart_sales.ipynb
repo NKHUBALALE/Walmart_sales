{
 "cells": [
  {
   "cell_type": "markdown",
   "id": "5e90b57a",
   "metadata": {},
   "source": [
    "#### Importing Packages "
   ]
  },
  {
   "cell_type": "code",
   "execution_count": 377,
   "id": "e24db790",
   "metadata": {},
   "outputs": [],
   "source": [
    "import pandas as pd\n",
    "import numpy as np\n",
    "import matplotlib.pyplot as plt\n",
    "import seaborn as sns\n",
    "import datetime as dt\n",
    "\n",
    "import warnings\n",
    "\n",
    "\n",
    "\n",
    "# Supress warnings\n",
    "warnings.filterwarnings('ignore')"
   ]
  },
  {
   "cell_type": "markdown",
   "id": "55cf610b",
   "metadata": {},
   "source": [
    "#### Importing Data"
   ]
  },
  {
   "cell_type": "code",
   "execution_count": 378,
   "id": "1191bbf8",
   "metadata": {},
   "outputs": [
    {
     "data": {
      "text/html": [
       "<div>\n",
       "<style scoped>\n",
       "    .dataframe tbody tr th:only-of-type {\n",
       "        vertical-align: middle;\n",
       "    }\n",
       "\n",
       "    .dataframe tbody tr th {\n",
       "        vertical-align: top;\n",
       "    }\n",
       "\n",
       "    .dataframe thead th {\n",
       "        text-align: right;\n",
       "    }\n",
       "</style>\n",
       "<table border=\"1\" class=\"dataframe\">\n",
       "  <thead>\n",
       "    <tr style=\"text-align: right;\">\n",
       "      <th></th>\n",
       "      <th>Store</th>\n",
       "      <th>Date</th>\n",
       "      <th>Weekly_Sales</th>\n",
       "      <th>Holiday_Flag</th>\n",
       "      <th>Temperature</th>\n",
       "      <th>Fuel_Price</th>\n",
       "      <th>CPI</th>\n",
       "      <th>Unemployment</th>\n",
       "    </tr>\n",
       "  </thead>\n",
       "  <tbody>\n",
       "    <tr>\n",
       "      <th>0</th>\n",
       "      <td>1</td>\n",
       "      <td>05-02-2010</td>\n",
       "      <td>1643690.90</td>\n",
       "      <td>0</td>\n",
       "      <td>42.31</td>\n",
       "      <td>2.572</td>\n",
       "      <td>211.096358</td>\n",
       "      <td>8.106</td>\n",
       "    </tr>\n",
       "    <tr>\n",
       "      <th>1</th>\n",
       "      <td>1</td>\n",
       "      <td>12-02-2010</td>\n",
       "      <td>1641957.44</td>\n",
       "      <td>1</td>\n",
       "      <td>38.51</td>\n",
       "      <td>2.548</td>\n",
       "      <td>211.242170</td>\n",
       "      <td>8.106</td>\n",
       "    </tr>\n",
       "    <tr>\n",
       "      <th>2</th>\n",
       "      <td>1</td>\n",
       "      <td>19-02-2010</td>\n",
       "      <td>1611968.17</td>\n",
       "      <td>0</td>\n",
       "      <td>39.93</td>\n",
       "      <td>2.514</td>\n",
       "      <td>211.289143</td>\n",
       "      <td>8.106</td>\n",
       "    </tr>\n",
       "    <tr>\n",
       "      <th>3</th>\n",
       "      <td>1</td>\n",
       "      <td>26-02-2010</td>\n",
       "      <td>1409727.59</td>\n",
       "      <td>0</td>\n",
       "      <td>46.63</td>\n",
       "      <td>2.561</td>\n",
       "      <td>211.319643</td>\n",
       "      <td>8.106</td>\n",
       "    </tr>\n",
       "    <tr>\n",
       "      <th>4</th>\n",
       "      <td>1</td>\n",
       "      <td>05-03-2010</td>\n",
       "      <td>1554806.68</td>\n",
       "      <td>0</td>\n",
       "      <td>46.50</td>\n",
       "      <td>2.625</td>\n",
       "      <td>211.350143</td>\n",
       "      <td>8.106</td>\n",
       "    </tr>\n",
       "  </tbody>\n",
       "</table>\n",
       "</div>"
      ],
      "text/plain": [
       "   Store        Date  Weekly_Sales  Holiday_Flag  Temperature  Fuel_Price  \\\n",
       "0      1  05-02-2010    1643690.90             0        42.31       2.572   \n",
       "1      1  12-02-2010    1641957.44             1        38.51       2.548   \n",
       "2      1  19-02-2010    1611968.17             0        39.93       2.514   \n",
       "3      1  26-02-2010    1409727.59             0        46.63       2.561   \n",
       "4      1  05-03-2010    1554806.68             0        46.50       2.625   \n",
       "\n",
       "          CPI  Unemployment  \n",
       "0  211.096358         8.106  \n",
       "1  211.242170         8.106  \n",
       "2  211.289143         8.106  \n",
       "3  211.319643         8.106  \n",
       "4  211.350143         8.106  "
      ]
     },
     "execution_count": 378,
     "metadata": {},
     "output_type": "execute_result"
    }
   ],
   "source": [
    "walmart_sales = pd.read_csv('Data\\Walmart_Store_sales.csv')\n",
    "\n",
    "walmart_sales.head()"
   ]
  },
  {
   "cell_type": "markdown",
   "id": "8e40f2b8",
   "metadata": {},
   "source": [
    "The data has been successfully loaded.\n",
    "\n",
    "**The next step is ***Data Overview and Cleaning***, it is always a good idea to check the data types, missing values and the size of the data.**"
   ]
  },
  {
   "cell_type": "code",
   "execution_count": 379,
   "id": "db07b53f",
   "metadata": {},
   "outputs": [
    {
     "name": "stdout",
     "output_type": "stream",
     "text": [
      "<class 'pandas.core.frame.DataFrame'>\n",
      "RangeIndex: 6435 entries, 0 to 6434\n",
      "Data columns (total 8 columns):\n",
      " #   Column        Non-Null Count  Dtype  \n",
      "---  ------        --------------  -----  \n",
      " 0   Store         6435 non-null   int64  \n",
      " 1   Date          6435 non-null   object \n",
      " 2   Weekly_Sales  6435 non-null   float64\n",
      " 3   Holiday_Flag  6435 non-null   int64  \n",
      " 4   Temperature   6435 non-null   float64\n",
      " 5   Fuel_Price    6435 non-null   float64\n",
      " 6   CPI           6435 non-null   float64\n",
      " 7   Unemployment  6435 non-null   float64\n",
      "dtypes: float64(5), int64(2), object(1)\n",
      "memory usage: 402.3+ KB\n"
     ]
    }
   ],
   "source": [
    "walmart_sales.info()    "
   ]
  },
  {
   "cell_type": "markdown",
   "id": "0b8f5f8b",
   "metadata": {},
   "source": [
    "All columns in the dataset contain 6435 non-null values, indicating no apparent missing values. This is a positive sign for data completeness. However, missing values could still exist if encoded in a non-standard format (e.g., placeholders like \"N/A\" or -1), which will be investigated further during exploratory analysis.\n",
    "\n",
    "**Converting Date column to datetime datatype**"
   ]
  },
  {
   "cell_type": "code",
   "execution_count": 380,
   "id": "1c24ced8",
   "metadata": {},
   "outputs": [],
   "source": [
    "walmart_sales['Date'] = pd.to_datetime(walmart_sales['Date'], format='%d-%m-%Y')\n"
   ]
  },
  {
   "cell_type": "markdown",
   "id": "4cb8b209",
   "metadata": {},
   "source": [
    "#### Data Analysis\n",
    "\n",
    "**Descriptive Statistics**"
   ]
  },
  {
   "cell_type": "code",
   "execution_count": 381,
   "id": "0c041386",
   "metadata": {},
   "outputs": [
    {
     "data": {
      "text/html": [
       "<div>\n",
       "<style scoped>\n",
       "    .dataframe tbody tr th:only-of-type {\n",
       "        vertical-align: middle;\n",
       "    }\n",
       "\n",
       "    .dataframe tbody tr th {\n",
       "        vertical-align: top;\n",
       "    }\n",
       "\n",
       "    .dataframe thead th {\n",
       "        text-align: right;\n",
       "    }\n",
       "</style>\n",
       "<table border=\"1\" class=\"dataframe\">\n",
       "  <thead>\n",
       "    <tr style=\"text-align: right;\">\n",
       "      <th></th>\n",
       "      <th>Store</th>\n",
       "      <th>Date</th>\n",
       "      <th>Weekly_Sales</th>\n",
       "      <th>Holiday_Flag</th>\n",
       "      <th>Temperature</th>\n",
       "      <th>Fuel_Price</th>\n",
       "      <th>CPI</th>\n",
       "      <th>Unemployment</th>\n",
       "    </tr>\n",
       "  </thead>\n",
       "  <tbody>\n",
       "    <tr>\n",
       "      <th>count</th>\n",
       "      <td>6435.000000</td>\n",
       "      <td>6435</td>\n",
       "      <td>6.435000e+03</td>\n",
       "      <td>6435.000000</td>\n",
       "      <td>6435.000000</td>\n",
       "      <td>6435.000000</td>\n",
       "      <td>6435.000000</td>\n",
       "      <td>6435.000000</td>\n",
       "    </tr>\n",
       "    <tr>\n",
       "      <th>mean</th>\n",
       "      <td>23.000000</td>\n",
       "      <td>2011-06-17 00:00:00</td>\n",
       "      <td>1.046965e+06</td>\n",
       "      <td>0.069930</td>\n",
       "      <td>60.663782</td>\n",
       "      <td>3.358607</td>\n",
       "      <td>171.578394</td>\n",
       "      <td>7.999151</td>\n",
       "    </tr>\n",
       "    <tr>\n",
       "      <th>min</th>\n",
       "      <td>1.000000</td>\n",
       "      <td>2010-02-05 00:00:00</td>\n",
       "      <td>2.099862e+05</td>\n",
       "      <td>0.000000</td>\n",
       "      <td>-2.060000</td>\n",
       "      <td>2.472000</td>\n",
       "      <td>126.064000</td>\n",
       "      <td>3.879000</td>\n",
       "    </tr>\n",
       "    <tr>\n",
       "      <th>25%</th>\n",
       "      <td>12.000000</td>\n",
       "      <td>2010-10-08 00:00:00</td>\n",
       "      <td>5.533501e+05</td>\n",
       "      <td>0.000000</td>\n",
       "      <td>47.460000</td>\n",
       "      <td>2.933000</td>\n",
       "      <td>131.735000</td>\n",
       "      <td>6.891000</td>\n",
       "    </tr>\n",
       "    <tr>\n",
       "      <th>50%</th>\n",
       "      <td>23.000000</td>\n",
       "      <td>2011-06-17 00:00:00</td>\n",
       "      <td>9.607460e+05</td>\n",
       "      <td>0.000000</td>\n",
       "      <td>62.670000</td>\n",
       "      <td>3.445000</td>\n",
       "      <td>182.616521</td>\n",
       "      <td>7.874000</td>\n",
       "    </tr>\n",
       "    <tr>\n",
       "      <th>75%</th>\n",
       "      <td>34.000000</td>\n",
       "      <td>2012-02-24 00:00:00</td>\n",
       "      <td>1.420159e+06</td>\n",
       "      <td>0.000000</td>\n",
       "      <td>74.940000</td>\n",
       "      <td>3.735000</td>\n",
       "      <td>212.743293</td>\n",
       "      <td>8.622000</td>\n",
       "    </tr>\n",
       "    <tr>\n",
       "      <th>max</th>\n",
       "      <td>45.000000</td>\n",
       "      <td>2012-10-26 00:00:00</td>\n",
       "      <td>3.818686e+06</td>\n",
       "      <td>1.000000</td>\n",
       "      <td>100.140000</td>\n",
       "      <td>4.468000</td>\n",
       "      <td>227.232807</td>\n",
       "      <td>14.313000</td>\n",
       "    </tr>\n",
       "    <tr>\n",
       "      <th>std</th>\n",
       "      <td>12.988182</td>\n",
       "      <td>NaN</td>\n",
       "      <td>5.643666e+05</td>\n",
       "      <td>0.255049</td>\n",
       "      <td>18.444933</td>\n",
       "      <td>0.459020</td>\n",
       "      <td>39.356712</td>\n",
       "      <td>1.875885</td>\n",
       "    </tr>\n",
       "  </tbody>\n",
       "</table>\n",
       "</div>"
      ],
      "text/plain": [
       "             Store                 Date  Weekly_Sales  Holiday_Flag  \\\n",
       "count  6435.000000                 6435  6.435000e+03   6435.000000   \n",
       "mean     23.000000  2011-06-17 00:00:00  1.046965e+06      0.069930   \n",
       "min       1.000000  2010-02-05 00:00:00  2.099862e+05      0.000000   \n",
       "25%      12.000000  2010-10-08 00:00:00  5.533501e+05      0.000000   \n",
       "50%      23.000000  2011-06-17 00:00:00  9.607460e+05      0.000000   \n",
       "75%      34.000000  2012-02-24 00:00:00  1.420159e+06      0.000000   \n",
       "max      45.000000  2012-10-26 00:00:00  3.818686e+06      1.000000   \n",
       "std      12.988182                  NaN  5.643666e+05      0.255049   \n",
       "\n",
       "       Temperature   Fuel_Price          CPI  Unemployment  \n",
       "count  6435.000000  6435.000000  6435.000000   6435.000000  \n",
       "mean     60.663782     3.358607   171.578394      7.999151  \n",
       "min      -2.060000     2.472000   126.064000      3.879000  \n",
       "25%      47.460000     2.933000   131.735000      6.891000  \n",
       "50%      62.670000     3.445000   182.616521      7.874000  \n",
       "75%      74.940000     3.735000   212.743293      8.622000  \n",
       "max     100.140000     4.468000   227.232807     14.313000  \n",
       "std      18.444933     0.459020    39.356712      1.875885  "
      ]
     },
     "execution_count": 381,
     "metadata": {},
     "output_type": "execute_result"
    }
   ],
   "source": [
    "walmart_sales.describe()    "
   ]
  },
  {
   "cell_type": "markdown",
   "id": "5064c6dc",
   "metadata": {},
   "source": [
    "**Store Analysis**"
   ]
  },
  {
   "cell_type": "code",
   "execution_count": 382,
   "id": "5ac400c1",
   "metadata": {},
   "outputs": [
    {
     "name": "stdout",
     "output_type": "stream",
     "text": [
      "The first 5 stores with` the lowest sales are:\n",
      "\n"
     ]
    },
    {
     "data": {
      "text/html": [
       "<div>\n",
       "<style scoped>\n",
       "    .dataframe tbody tr th:only-of-type {\n",
       "        vertical-align: middle;\n",
       "    }\n",
       "\n",
       "    .dataframe tbody tr th {\n",
       "        vertical-align: top;\n",
       "    }\n",
       "\n",
       "    .dataframe thead th {\n",
       "        text-align: right;\n",
       "    }\n",
       "</style>\n",
       "<table border=\"1\" class=\"dataframe\">\n",
       "  <thead>\n",
       "    <tr style=\"text-align: right;\">\n",
       "      <th></th>\n",
       "      <th>Weekly_Sales</th>\n",
       "    </tr>\n",
       "    <tr>\n",
       "      <th>Store</th>\n",
       "      <th></th>\n",
       "    </tr>\n",
       "  </thead>\n",
       "  <tbody>\n",
       "    <tr>\n",
       "      <th>33</th>\n",
       "      <td>37160221.96</td>\n",
       "    </tr>\n",
       "    <tr>\n",
       "      <th>44</th>\n",
       "      <td>43293087.84</td>\n",
       "    </tr>\n",
       "    <tr>\n",
       "      <th>5</th>\n",
       "      <td>45475688.90</td>\n",
       "    </tr>\n",
       "    <tr>\n",
       "      <th>36</th>\n",
       "      <td>53412214.97</td>\n",
       "    </tr>\n",
       "    <tr>\n",
       "      <th>38</th>\n",
       "      <td>55159626.42</td>\n",
       "    </tr>\n",
       "  </tbody>\n",
       "</table>\n",
       "</div>"
      ],
      "text/plain": [
       "       Weekly_Sales\n",
       "Store              \n",
       "33      37160221.96\n",
       "44      43293087.84\n",
       "5       45475688.90\n",
       "36      53412214.97\n",
       "38      55159626.42"
      ]
     },
     "metadata": {},
     "output_type": "display_data"
    },
    {
     "name": "stdout",
     "output_type": "stream",
     "text": [
      "The first 5 stores with the highest sales are:\n",
      "\n"
     ]
    },
    {
     "data": {
      "text/html": [
       "<div>\n",
       "<style scoped>\n",
       "    .dataframe tbody tr th:only-of-type {\n",
       "        vertical-align: middle;\n",
       "    }\n",
       "\n",
       "    .dataframe tbody tr th {\n",
       "        vertical-align: top;\n",
       "    }\n",
       "\n",
       "    .dataframe thead th {\n",
       "        text-align: right;\n",
       "    }\n",
       "</style>\n",
       "<table border=\"1\" class=\"dataframe\">\n",
       "  <thead>\n",
       "    <tr style=\"text-align: right;\">\n",
       "      <th></th>\n",
       "      <th>Weekly_Sales</th>\n",
       "    </tr>\n",
       "    <tr>\n",
       "      <th>Store</th>\n",
       "      <th></th>\n",
       "    </tr>\n",
       "  </thead>\n",
       "  <tbody>\n",
       "    <tr>\n",
       "      <th>2</th>\n",
       "      <td>2.753824e+08</td>\n",
       "    </tr>\n",
       "    <tr>\n",
       "      <th>13</th>\n",
       "      <td>2.865177e+08</td>\n",
       "    </tr>\n",
       "    <tr>\n",
       "      <th>14</th>\n",
       "      <td>2.889999e+08</td>\n",
       "    </tr>\n",
       "    <tr>\n",
       "      <th>4</th>\n",
       "      <td>2.995440e+08</td>\n",
       "    </tr>\n",
       "    <tr>\n",
       "      <th>20</th>\n",
       "      <td>3.013978e+08</td>\n",
       "    </tr>\n",
       "  </tbody>\n",
       "</table>\n",
       "</div>"
      ],
      "text/plain": [
       "       Weekly_Sales\n",
       "Store              \n",
       "2      2.753824e+08\n",
       "13     2.865177e+08\n",
       "14     2.889999e+08\n",
       "4      2.995440e+08\n",
       "20     3.013978e+08"
      ]
     },
     "metadata": {},
     "output_type": "display_data"
    }
   ],
   "source": [
    "store_weekly_sales=walmart_sales.groupby('Store')[['Weekly_Sales']].sum().sort_values(by='Weekly_Sales', ascending=True)\n",
    "\n",
    "print(f'The first 5 stores with` the lowest sales are:\\n')\n",
    "display(store_weekly_sales[:5])\n",
    "\n",
    "print(f'The first 5 stores with the highest sales are:\\n')\n",
    "display(store_weekly_sales[-5:])"
   ]
  },
  {
   "cell_type": "code",
   "execution_count": 383,
   "id": "cb718472",
   "metadata": {},
   "outputs": [
    {
     "name": "stdout",
     "output_type": "stream",
     "text": [
      "The store with maximum sales is Store 20 with Sales of 301,397,792.46\n",
      "\n",
      "The store with minimum sales is Store 33 with Sales of 37,160,221.96\n"
     ]
    }
   ],
   "source": [
    "print(f\"The store with maximum sales is Store {store_weekly_sales['Weekly_Sales'].idxmax()} with Sales of {store_weekly_sales['Weekly_Sales'].max():,.2f}\\n\")\n",
    "\n",
    "print(f\"The store with minimum sales is Store {store_weekly_sales['Weekly_Sales'].idxmin()} with Sales of {store_weekly_sales['Weekly_Sales'].min():,.2f}\")\n"
   ]
  },
  {
   "cell_type": "code",
   "execution_count": 384,
   "id": "6b8beb61",
   "metadata": {},
   "outputs": [],
   "source": [
    "store_sales_stats = walmart_sales.groupby('Store')['Weekly_Sales'].agg(['mean', 'std'])\n",
    "\n",
    "store_sales_stats['cv'] = store_sales_stats['std'] / store_sales_stats['mean']\n",
    "\n",
    "\n",
    "\n"
   ]
  },
  {
   "cell_type": "code",
   "execution_count": 385,
   "id": "b0b0555a",
   "metadata": {},
   "outputs": [
    {
     "name": "stdout",
     "output_type": "stream",
     "text": [
      "The store with maximum sales standard deviations is Store 14 with standard deviations of 317,569.95\n",
      "\n",
      "The store with minimum standard  deviations sales is Store 37 with standard  deviations of 21,837.46\n",
      "\n",
      "Store 35 has the highest coefficient of variation: 0.22968\n"
     ]
    }
   ],
   "source": [
    "print(f\"The store with maximum sales standard deviations is Store {store_sales_stats['std'].idxmax()} with standard deviations of {store_sales_stats['std'].max():,.2f}\\n\")\n",
    "\n",
    "print(f\"The store with minimum standard  deviations sales is Store {store_sales_stats['std'].idxmin()} with standard  deviations of {store_sales_stats['std'].min():,.2f}\\n\")\n",
    "\n",
    "print(f\"Store {store_sales_stats['cv'].idxmax()} has the highest coefficient of variation: {store_sales_stats['cv'].max():.5f}\")"
   ]
  },
  {
   "cell_type": "code",
   "execution_count": 386,
   "id": "f0bd25cc",
   "metadata": {},
   "outputs": [],
   "source": [
    "quarterly_sales= walmart_sales.groupby([pd.Grouper(key='Date', freq='QE'),'Store']).agg({'Weekly_Sales': 'sum'}).reset_index()    "
   ]
  },
  {
   "cell_type": "code",
   "execution_count": 387,
   "id": "f1608457",
   "metadata": {},
   "outputs": [],
   "source": [
    "\n",
    "quarterly_sales_q2_and_q3_2012= quarterly_sales[(quarterly_sales['Date'].dt.year == 2012) & (quarterly_sales['Date'].dt.month > 3) & (quarterly_sales['Date'].dt.month <= 9)] "
   ]
  },
  {
   "cell_type": "code",
   "execution_count": 388,
   "id": "b9c2ed58",
   "metadata": {},
   "outputs": [
    {
     "data": {
      "text/html": [
       "<div>\n",
       "<style scoped>\n",
       "    .dataframe tbody tr th:only-of-type {\n",
       "        vertical-align: middle;\n",
       "    }\n",
       "\n",
       "    .dataframe tbody tr th {\n",
       "        vertical-align: top;\n",
       "    }\n",
       "\n",
       "    .dataframe thead th {\n",
       "        text-align: right;\n",
       "    }\n",
       "</style>\n",
       "<table border=\"1\" class=\"dataframe\">\n",
       "  <thead>\n",
       "    <tr style=\"text-align: right;\">\n",
       "      <th></th>\n",
       "      <th>Date</th>\n",
       "      <th>Store</th>\n",
       "      <th>Weekly_Sales</th>\n",
       "    </tr>\n",
       "  </thead>\n",
       "  <tbody>\n",
       "    <tr>\n",
       "      <th>405</th>\n",
       "      <td>2012-06-30</td>\n",
       "      <td>1</td>\n",
       "      <td>20978760.12</td>\n",
       "    </tr>\n",
       "    <tr>\n",
       "      <th>406</th>\n",
       "      <td>2012-06-30</td>\n",
       "      <td>2</td>\n",
       "      <td>25083604.88</td>\n",
       "    </tr>\n",
       "    <tr>\n",
       "      <th>407</th>\n",
       "      <td>2012-06-30</td>\n",
       "      <td>3</td>\n",
       "      <td>5620316.49</td>\n",
       "    </tr>\n",
       "    <tr>\n",
       "      <th>408</th>\n",
       "      <td>2012-06-30</td>\n",
       "      <td>4</td>\n",
       "      <td>28454363.67</td>\n",
       "    </tr>\n",
       "    <tr>\n",
       "      <th>409</th>\n",
       "      <td>2012-06-30</td>\n",
       "      <td>5</td>\n",
       "      <td>4466363.69</td>\n",
       "    </tr>\n",
       "    <tr>\n",
       "      <th>...</th>\n",
       "      <td>...</td>\n",
       "      <td>...</td>\n",
       "      <td>...</td>\n",
       "    </tr>\n",
       "    <tr>\n",
       "      <th>490</th>\n",
       "      <td>2012-09-30</td>\n",
       "      <td>41</td>\n",
       "      <td>18093844.01</td>\n",
       "    </tr>\n",
       "    <tr>\n",
       "      <th>491</th>\n",
       "      <td>2012-09-30</td>\n",
       "      <td>42</td>\n",
       "      <td>7296759.34</td>\n",
       "    </tr>\n",
       "    <tr>\n",
       "      <th>492</th>\n",
       "      <td>2012-09-30</td>\n",
       "      <td>43</td>\n",
       "      <td>8000572.16</td>\n",
       "    </tr>\n",
       "    <tr>\n",
       "      <th>493</th>\n",
       "      <td>2012-09-30</td>\n",
       "      <td>44</td>\n",
       "      <td>4411251.16</td>\n",
       "    </tr>\n",
       "    <tr>\n",
       "      <th>494</th>\n",
       "      <td>2012-09-30</td>\n",
       "      <td>45</td>\n",
       "      <td>9581268.38</td>\n",
       "    </tr>\n",
       "  </tbody>\n",
       "</table>\n",
       "<p>90 rows × 3 columns</p>\n",
       "</div>"
      ],
      "text/plain": [
       "          Date  Store  Weekly_Sales\n",
       "405 2012-06-30      1   20978760.12\n",
       "406 2012-06-30      2   25083604.88\n",
       "407 2012-06-30      3    5620316.49\n",
       "408 2012-06-30      4   28454363.67\n",
       "409 2012-06-30      5    4466363.69\n",
       "..         ...    ...           ...\n",
       "490 2012-09-30     41   18093844.01\n",
       "491 2012-09-30     42    7296759.34\n",
       "492 2012-09-30     43    8000572.16\n",
       "493 2012-09-30     44    4411251.16\n",
       "494 2012-09-30     45    9581268.38\n",
       "\n",
       "[90 rows x 3 columns]"
      ]
     },
     "execution_count": 388,
     "metadata": {},
     "output_type": "execute_result"
    }
   ],
   "source": [
    "quarterly_sales_q2_and_q3_2012"
   ]
  },
  {
   "cell_type": "code",
   "execution_count": 389,
   "id": "0bf3b5e7",
   "metadata": {},
   "outputs": [
    {
     "data": {
      "text/html": [
       "<div>\n",
       "<style scoped>\n",
       "    .dataframe tbody tr th:only-of-type {\n",
       "        vertical-align: middle;\n",
       "    }\n",
       "\n",
       "    .dataframe tbody tr th {\n",
       "        vertical-align: top;\n",
       "    }\n",
       "\n",
       "    .dataframe thead th {\n",
       "        text-align: right;\n",
       "    }\n",
       "</style>\n",
       "<table border=\"1\" class=\"dataframe\">\n",
       "  <thead>\n",
       "    <tr style=\"text-align: right;\">\n",
       "      <th>Date</th>\n",
       "      <th>Q2_2012</th>\n",
       "      <th>Q3_2012</th>\n",
       "    </tr>\n",
       "    <tr>\n",
       "      <th>Store</th>\n",
       "      <th></th>\n",
       "      <th></th>\n",
       "    </tr>\n",
       "  </thead>\n",
       "  <tbody>\n",
       "    <tr>\n",
       "      <th>1</th>\n",
       "      <td>20978760.12</td>\n",
       "      <td>20253947.78</td>\n",
       "    </tr>\n",
       "    <tr>\n",
       "      <th>2</th>\n",
       "      <td>25083604.88</td>\n",
       "      <td>24303354.86</td>\n",
       "    </tr>\n",
       "    <tr>\n",
       "      <th>3</th>\n",
       "      <td>5620316.49</td>\n",
       "      <td>5298005.47</td>\n",
       "    </tr>\n",
       "    <tr>\n",
       "      <th>4</th>\n",
       "      <td>28454363.67</td>\n",
       "      <td>27796792.46</td>\n",
       "    </tr>\n",
       "    <tr>\n",
       "      <th>5</th>\n",
       "      <td>4466363.69</td>\n",
       "      <td>4163790.99</td>\n",
       "    </tr>\n",
       "  </tbody>\n",
       "</table>\n",
       "</div>"
      ],
      "text/plain": [
       "Date       Q2_2012      Q3_2012\n",
       "Store                          \n",
       "1      20978760.12  20253947.78\n",
       "2      25083604.88  24303354.86\n",
       "3       5620316.49   5298005.47\n",
       "4      28454363.67  27796792.46\n",
       "5       4466363.69   4163790.99"
      ]
     },
     "execution_count": 389,
     "metadata": {},
     "output_type": "execute_result"
    }
   ],
   "source": [
    "qsales_pivot = quarterly_sales_q2_and_q3_2012.pivot(index='Store', columns='Date', values='Weekly_Sales')\n",
    "\n",
    "\n",
    "qsales_pivot.rename(columns={qsales_pivot.columns[0]: 'Q2_2012', qsales_pivot.columns[1]: 'Q3_2012'}, inplace=True)\n",
    "qsales_pivot.head() \n"
   ]
  },
  {
   "cell_type": "code",
   "execution_count": 390,
   "id": "8434868b",
   "metadata": {},
   "outputs": [
    {
     "data": {
      "text/html": [
       "<div>\n",
       "<style scoped>\n",
       "    .dataframe tbody tr th:only-of-type {\n",
       "        vertical-align: middle;\n",
       "    }\n",
       "\n",
       "    .dataframe tbody tr th {\n",
       "        vertical-align: top;\n",
       "    }\n",
       "\n",
       "    .dataframe thead th {\n",
       "        text-align: right;\n",
       "    }\n",
       "</style>\n",
       "<table border=\"1\" class=\"dataframe\">\n",
       "  <thead>\n",
       "    <tr style=\"text-align: right;\">\n",
       "      <th>Date</th>\n",
       "      <th>Q2_2012</th>\n",
       "      <th>Q3_2012</th>\n",
       "      <th>Growth_Rate</th>\n",
       "    </tr>\n",
       "    <tr>\n",
       "      <th>Store</th>\n",
       "      <th></th>\n",
       "      <th></th>\n",
       "      <th></th>\n",
       "    </tr>\n",
       "  </thead>\n",
       "  <tbody>\n",
       "    <tr>\n",
       "      <th>7</th>\n",
       "      <td>7290859.27</td>\n",
       "      <td>8262787.39</td>\n",
       "      <td>13.33</td>\n",
       "    </tr>\n",
       "    <tr>\n",
       "      <th>16</th>\n",
       "      <td>6564335.98</td>\n",
       "      <td>7121541.64</td>\n",
       "      <td>8.49</td>\n",
       "    </tr>\n",
       "    <tr>\n",
       "      <th>35</th>\n",
       "      <td>10838313.00</td>\n",
       "      <td>11322421.12</td>\n",
       "      <td>4.47</td>\n",
       "    </tr>\n",
       "    <tr>\n",
       "      <th>26</th>\n",
       "      <td>13155335.57</td>\n",
       "      <td>13675691.91</td>\n",
       "      <td>3.96</td>\n",
       "    </tr>\n",
       "    <tr>\n",
       "      <th>39</th>\n",
       "      <td>20214128.46</td>\n",
       "      <td>20715116.23</td>\n",
       "      <td>2.48</td>\n",
       "    </tr>\n",
       "  </tbody>\n",
       "</table>\n",
       "</div>"
      ],
      "text/plain": [
       "Date       Q2_2012      Q3_2012  Growth_Rate\n",
       "Store                                       \n",
       "7       7290859.27   8262787.39        13.33\n",
       "16      6564335.98   7121541.64         8.49\n",
       "35     10838313.00  11322421.12         4.47\n",
       "26     13155335.57  13675691.91         3.96\n",
       "39     20214128.46  20715116.23         2.48"
      ]
     },
     "execution_count": 390,
     "metadata": {},
     "output_type": "execute_result"
    }
   ],
   "source": [
    "qsales_pivot['Growth_Rate'] = ((qsales_pivot['Q3_2012'] - qsales_pivot['Q2_2012']) / qsales_pivot['Q2_2012'] * 100).round(2)\n",
    "\n",
    "qsales_pivot.sort_values(by='Growth_Rate', ascending=False, inplace=True)\n",
    "qsales_pivot.head(5)"
   ]
  },
  {
   "cell_type": "markdown",
   "id": "0e48dd50",
   "metadata": {},
   "source": [
    "Store 7 has a good quartely growth of 13.33%  for quater 3 in 2012"
   ]
  },
  {
   "cell_type": "code",
   "execution_count": 391,
   "id": "edcaed18",
   "metadata": {},
   "outputs": [
    {
     "data": {
      "text/plain": [
       "Date\n",
       "Q2_2012        28454363.67\n",
       "Q3_2012        27796792.46\n",
       "Growth_Rate          13.33\n",
       "dtype: float64"
      ]
     },
     "execution_count": 391,
     "metadata": {},
     "output_type": "execute_result"
    }
   ],
   "source": [
    "qsales_pivot.max()"
   ]
  },
  {
   "cell_type": "markdown",
   "id": "85e29726",
   "metadata": {},
   "source": [
    "**Holidays Analysis**\n",
    "\n",
    "Holiday Events\n",
    "\n",
    "Super Bowl: 12-Feb-10, 11-Feb-11, 10-Feb-12, 8-Feb-13\n",
    "\n",
    "Labour Day: 10-Sep-10, 9-Sep-11, 7-Sep-12, 6-Sep-13\n",
    "\n",
    "Thanksgiving: 26-Nov-10, 25-Nov-11, 23-Nov-12, 29-Nov-13\n",
    "\n",
    "Christmas: 31-Dec-10, 30-Dec-11, 28-Dec-12, 27-Dec-13"
   ]
  },
  {
   "cell_type": "code",
   "execution_count": 392,
   "id": "122ba5df",
   "metadata": {},
   "outputs": [],
   "source": [
    "super_bowl_dates = ['2010-02-12', '2011-02-11', '2012-02-10']\n",
    "labour_day_dates = ['2010-09-10', '2011-09-09', '2012-09-07', ]\n",
    "thanksgiving_dates = ['2010-11-26', '2011-11-25', '2012-11-23' ]\n",
    "christmas_dates = ['2010-12-31', '2011-12-30', '2012-12-28']\n",
    "\n"
   ]
  },
  {
   "cell_type": "code",
   "execution_count": null,
   "id": "41f3569b",
   "metadata": {},
   "outputs": [],
   "source": []
  },
  {
   "cell_type": "code",
   "execution_count": 393,
   "id": "135082c3",
   "metadata": {},
   "outputs": [],
   "source": [
    "holiday_data = {\n",
    "    'Holiday_Name': ['Super Bowl']*3 + ['Labour Day']*3 + ['Thanksgiving']*3 + ['Christmas']*3,\n",
    "    'Date': super_bowl_dates + labour_day_dates + thanksgiving_dates + christmas_dates\n",
    "}\n",
    "\n",
    "holidays_df = pd.DataFrame(holiday_data)\n",
    "holidays_df['Date'] = pd.to_datetime(holidays_df['Date'])"
   ]
  },
  {
   "cell_type": "code",
   "execution_count": 394,
   "id": "7a759217",
   "metadata": {},
   "outputs": [],
   "source": [
    "merged_df = pd.merge(walmart_sales, \n",
    "                    holidays_df, \n",
    "                    on='Date', \n",
    "                    how='left')\n",
    "\n",
    "holiday_means = merged_df.groupby('Holiday_Name')['Weekly_Sales'].mean().reset_index()\n",
    "holiday_means.rename(columns={'Weekly_Sales': 'Mean_Sales'}, inplace=True)\n",
    "\n",
    "holidays_df = pd.merge(holidays_df, \n",
    "                      holiday_means, \n",
    "                      on='Holiday_Name', \n",
    "                      how='left')"
   ]
  },
  {
   "cell_type": "code",
   "execution_count": 395,
   "id": "fd5a07bc",
   "metadata": {},
   "outputs": [
    {
     "data": {
      "text/html": [
       "<div>\n",
       "<style scoped>\n",
       "    .dataframe tbody tr th:only-of-type {\n",
       "        vertical-align: middle;\n",
       "    }\n",
       "\n",
       "    .dataframe tbody tr th {\n",
       "        vertical-align: top;\n",
       "    }\n",
       "\n",
       "    .dataframe thead th {\n",
       "        text-align: right;\n",
       "    }\n",
       "</style>\n",
       "<table border=\"1\" class=\"dataframe\">\n",
       "  <thead>\n",
       "    <tr style=\"text-align: right;\">\n",
       "      <th></th>\n",
       "      <th>Holiday_Name</th>\n",
       "      <th>Mean_Sales</th>\n",
       "    </tr>\n",
       "  </thead>\n",
       "  <tbody>\n",
       "    <tr>\n",
       "      <th>0</th>\n",
       "      <td>Christmas</td>\n",
       "      <td>9.608331e+05</td>\n",
       "    </tr>\n",
       "    <tr>\n",
       "      <th>1</th>\n",
       "      <td>Labour Day</td>\n",
       "      <td>1.042427e+06</td>\n",
       "    </tr>\n",
       "    <tr>\n",
       "      <th>2</th>\n",
       "      <td>Super Bowl</td>\n",
       "      <td>1.079128e+06</td>\n",
       "    </tr>\n",
       "    <tr>\n",
       "      <th>3</th>\n",
       "      <td>Thanksgiving</td>\n",
       "      <td>1.471273e+06</td>\n",
       "    </tr>\n",
       "  </tbody>\n",
       "</table>\n",
       "</div>"
      ],
      "text/plain": [
       "   Holiday_Name    Mean_Sales\n",
       "0     Christmas  9.608331e+05\n",
       "1    Labour Day  1.042427e+06\n",
       "2    Super Bowl  1.079128e+06\n",
       "3  Thanksgiving  1.471273e+06"
      ]
     },
     "execution_count": 395,
     "metadata": {},
     "output_type": "execute_result"
    }
   ],
   "source": [
    "holiday_means"
   ]
  },
  {
   "cell_type": "code",
   "execution_count": 396,
   "id": "edb4e78a",
   "metadata": {},
   "outputs": [],
   "source": [
    "non_holiday_mean = walmart_sales[walmart_sales['Holiday_Flag'] == 0]['Weekly_Sales'].mean()\n",
    "\n",
    "holiday_means['Non_Holiday_Mean'] = non_holiday_mean\n",
    "\n",
    "holiday_means['Above_Non_Holiday'] = holiday_means['Mean_Sales'] > holiday_means['Non_Holiday_Mean']"
   ]
  },
  {
   "cell_type": "code",
   "execution_count": 397,
   "id": "5e545fe7",
   "metadata": {},
   "outputs": [],
   "source": [
    "holiday_means['Pct_Difference'] = (\n",
    "    (holiday_means['Mean_Sales'] - holiday_means['Non_Holiday_Mean']) \n",
    "    / holiday_means['Non_Holiday_Mean'] \n",
    "    * 100\n",
    ")\n",
    "\n"
   ]
  },
  {
   "cell_type": "code",
   "execution_count": 398,
   "id": "05f24201",
   "metadata": {},
   "outputs": [],
   "source": [
    "holiday_means['Mean_Sales'] = holiday_means['Mean_Sales'].map('${:,.2f}'.format)\n",
    "holiday_means['Non_Holiday_Mean'] = holiday_means['Non_Holiday_Mean'].map('${:,.2f}'.format)\n",
    "holiday_means['Pct_Difference'] = holiday_means['Pct_Difference'].map('{:+.2f}%'.format)"
   ]
  },
  {
   "cell_type": "code",
   "execution_count": 399,
   "id": "7196e1e6",
   "metadata": {},
   "outputs": [
    {
     "data": {
      "text/html": [
       "<div>\n",
       "<style scoped>\n",
       "    .dataframe tbody tr th:only-of-type {\n",
       "        vertical-align: middle;\n",
       "    }\n",
       "\n",
       "    .dataframe tbody tr th {\n",
       "        vertical-align: top;\n",
       "    }\n",
       "\n",
       "    .dataframe thead th {\n",
       "        text-align: right;\n",
       "    }\n",
       "</style>\n",
       "<table border=\"1\" class=\"dataframe\">\n",
       "  <thead>\n",
       "    <tr style=\"text-align: right;\">\n",
       "      <th></th>\n",
       "      <th>Holiday_Name</th>\n",
       "      <th>Mean_Sales</th>\n",
       "      <th>Non_Holiday_Mean</th>\n",
       "      <th>Above_Non_Holiday</th>\n",
       "      <th>Pct_Difference</th>\n",
       "    </tr>\n",
       "  </thead>\n",
       "  <tbody>\n",
       "    <tr>\n",
       "      <th>0</th>\n",
       "      <td>Christmas</td>\n",
       "      <td>$960,833.11</td>\n",
       "      <td>$1,041,256.38</td>\n",
       "      <td>False</td>\n",
       "      <td>-7.72%</td>\n",
       "    </tr>\n",
       "    <tr>\n",
       "      <th>1</th>\n",
       "      <td>Labour Day</td>\n",
       "      <td>$1,042,427.29</td>\n",
       "      <td>$1,041,256.38</td>\n",
       "      <td>True</td>\n",
       "      <td>+0.11%</td>\n",
       "    </tr>\n",
       "    <tr>\n",
       "      <th>2</th>\n",
       "      <td>Super Bowl</td>\n",
       "      <td>$1,079,127.99</td>\n",
       "      <td>$1,041,256.38</td>\n",
       "      <td>True</td>\n",
       "      <td>+3.64%</td>\n",
       "    </tr>\n",
       "    <tr>\n",
       "      <th>3</th>\n",
       "      <td>Thanksgiving</td>\n",
       "      <td>$1,471,273.43</td>\n",
       "      <td>$1,041,256.38</td>\n",
       "      <td>True</td>\n",
       "      <td>+41.30%</td>\n",
       "    </tr>\n",
       "  </tbody>\n",
       "</table>\n",
       "</div>"
      ],
      "text/plain": [
       "   Holiday_Name     Mean_Sales Non_Holiday_Mean  Above_Non_Holiday  \\\n",
       "0     Christmas    $960,833.11    $1,041,256.38              False   \n",
       "1    Labour Day  $1,042,427.29    $1,041,256.38               True   \n",
       "2    Super Bowl  $1,079,127.99    $1,041,256.38               True   \n",
       "3  Thanksgiving  $1,471,273.43    $1,041,256.38               True   \n",
       "\n",
       "  Pct_Difference  \n",
       "0         -7.72%  \n",
       "1         +0.11%  \n",
       "2         +3.64%  \n",
       "3        +41.30%  "
      ]
     },
     "execution_count": 399,
     "metadata": {},
     "output_type": "execute_result"
    }
   ],
   "source": [
    "holiday_means"
   ]
  },
  {
   "cell_type": "markdown",
   "id": "0d59449b",
   "metadata": {},
   "source": [
    "**Holidays Sales Impact Analysis**\n",
    "\n",
    "From the analysis, we compared the average weekly sales during major holidays against the mean weekly sales during non-holiday weeks across all stores. \n",
    "\n",
    "***The results reveal the following:***\n",
    "\n",
    "- Christmas has a negative impact on sales, with average sales 7.72% lower than non-holiday weeks.\n",
    "\n",
    "- Labour Day has a slightly positive impact, showing a 0.11% increase in average sales.\n",
    "\n",
    "- Super Bowl shows a moderate positive impact, with sales 3.64% higher than the non-holiday average.\n",
    "\n",
    "- Thanksgiving stands out with a strong positive impact, boosting sales by 41.30% compared to the non-holiday average."
   ]
  },
  {
   "cell_type": "code",
   "execution_count": null,
   "id": "b4196f5c",
   "metadata": {},
   "outputs": [],
   "source": []
  }
 ],
 "metadata": {
  "kernelspec": {
   "display_name": "Python 3",
   "language": "python",
   "name": "python3"
  },
  "language_info": {
   "codemirror_mode": {
    "name": "ipython",
    "version": 3
   },
   "file_extension": ".py",
   "mimetype": "text/x-python",
   "name": "python",
   "nbconvert_exporter": "python",
   "pygments_lexer": "ipython3",
   "version": "3.13.3"
  }
 },
 "nbformat": 4,
 "nbformat_minor": 5
}
